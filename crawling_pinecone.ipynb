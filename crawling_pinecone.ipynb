{
 "cells": [
  {
   "cell_type": "code",
   "execution_count": 1,
   "metadata": {},
   "outputs": [],
   "source": [
    "from selenium import webdriver\n",
    "from selenium.webdriver.common.by import By\n",
    "import time"
   ]
  },
  {
   "cell_type": "markdown",
   "metadata": {},
   "source": [
    "#### URL 크롤링"
   ]
  },
  {
   "cell_type": "code",
   "execution_count": 2,
   "metadata": {},
   "outputs": [],
   "source": [
    "def crawling():\n",
    "    driver = webdriver.Chrome()\n",
    "\n",
    "    # 일반 공지\n",
    "    driver.get('https://www.dongguk.edu/article/GENERALNOTICES/list')\n",
    "\n",
    "    time.sleep(2)\n",
    "\n",
    "    items = driver.find_elements(By.CSS_SELECTOR, 'div.board_list li')\n",
    "    url_list=[]\n",
    "\n",
    "    for i in range(len(items)):\n",
    "        # refresh 안해주면 하나만 크롤링하고 끝남\n",
    "        items = driver.find_elements(By.CSS_SELECTOR, 'div.board_list li')\n",
    "        try:\n",
    "            num_span = items[i].find_element(By.XPATH, './/a/div[@class=\"mark\"]/span[@class=\"num\"]')\n",
    "            num_span.click()\n",
    "            time.sleep(3)\n",
    "            \n",
    "            # add code\n",
    "            url = driver.current_url\n",
    "            url_list.append(url)\n",
    "            driver.back()\n",
    "            time.sleep(2)\n",
    "            \n",
    "        except Exception as e:\n",
    "            pass\n",
    "\n",
    "    driver.quit()\n",
    "    return url_list\n",
    "\n",
    "url_list = crawling()"
   ]
  },
  {
   "cell_type": "code",
   "execution_count": 3,
   "metadata": {},
   "outputs": [
    {
     "data": {
      "text/plain": [
       "['https://www.dongguk.edu/article/GENERALNOTICES/detail/26758365',\n",
       " 'https://www.dongguk.edu/article/GENERALNOTICES/detail/26758350',\n",
       " 'https://www.dongguk.edu/article/GENERALNOTICES/detail/26758345',\n",
       " 'https://www.dongguk.edu/article/GENERALNOTICES/detail/26758340',\n",
       " 'https://www.dongguk.edu/article/GENERALNOTICES/detail/26758339',\n",
       " 'https://www.dongguk.edu/article/GENERALNOTICES/detail/26758338',\n",
       " 'https://www.dongguk.edu/article/GENERALNOTICES/detail/26758337',\n",
       " 'https://www.dongguk.edu/article/GENERALNOTICES/detail/26758332',\n",
       " 'https://www.dongguk.edu/article/GENERALNOTICES/detail/26758330',\n",
       " 'https://www.dongguk.edu/article/GENERALNOTICES/detail/26758320']"
      ]
     },
     "execution_count": 3,
     "metadata": {},
     "output_type": "execute_result"
    }
   ],
   "source": [
    "url_list"
   ]
  },
  {
   "cell_type": "markdown",
   "metadata": {},
   "source": [
    "#### 본문에 이미지 파일이 있다면 로컬에 이미지 저장"
   ]
  },
  {
   "cell_type": "code",
   "execution_count": 4,
   "metadata": {},
   "outputs": [
    {
     "name": "stdout",
     "output_type": "stream",
     "text": [
      "Image saved at /Users/lee/Desktop/chatDPT/image/26758365.jpeg\n",
      "Image saved at /Users/lee/Desktop/chatDPT/image/26758350.jpeg\n",
      "Image saved at /Users/lee/Desktop/chatDPT/image/26758345.jpeg\n",
      "No image found in the view_cont section.\n",
      "No image found in the view_cont section.\n",
      "Image saved at /Users/lee/Desktop/chatDPT/image/26758338.jpeg\n",
      "Image saved at /Users/lee/Desktop/chatDPT/image/26758337.jpeg\n",
      "Image saved at /Users/lee/Desktop/chatDPT/image/26758332.jpeg\n",
      "Image saved at /Users/lee/Desktop/chatDPT/image/26758330.jpeg\n",
      "No image found in the view_cont section.\n"
     ]
    }
   ],
   "source": [
    "import os\n",
    "import requests\n",
    "from bs4 import BeautifulSoup\n",
    "from urllib.parse import urljoin\n",
    "\n",
    "# 이미지 저장 경로 설정\n",
    "image_folder = os.path.join(os.getcwd(), \"image\")\n",
    "if not os.path.exists(image_folder):\n",
    "    os.makedirs(image_folder)\n",
    "\n",
    "def download_image(image_url, save_path):\n",
    "    try:\n",
    "        response = requests.get(image_url)\n",
    "        if response.status_code == 200:\n",
    "            with open(save_path, \"wb\") as img_file:\n",
    "                img_file.write(response.content)\n",
    "            print(f\"Image saved at {save_path}\")\n",
    "        else:\n",
    "            print(f\"Failed to download image from {image_url}\")\n",
    "    except Exception as e:\n",
    "        print(f\"Error downloading image from {image_url}: {e}\")\n",
    "\n",
    "# URL 순회하면서 이미지 처리\n",
    "for url in url_list:\n",
    "    # 페이지 요청\n",
    "    response = requests.get(url)\n",
    "    \n",
    "    if response.status_code == 200:\n",
    "        soup = BeautifulSoup(response.content, \"html.parser\")\n",
    "        \n",
    "        # view_cont div 찾기\n",
    "        div_section = soup.find('div', {'class': 'view_cont'})\n",
    "        \n",
    "        if div_section:\n",
    "            # 이미지 태그 찾기\n",
    "            img_tag = div_section.find('img')\n",
    "            if img_tag and 'src' in img_tag.attrs:\n",
    "                image_url = img_tag.attrs['src']\n",
    "                \n",
    "                # 상대 URL 처리 (만약 src가 상대경로라면)\n",
    "                image_url = urljoin(url, image_url)\n",
    "                image_number = url.split(\"/\")[-1]\n",
    "                \n",
    "                # 이미지 저장 경로 (번호 + .jpeg)\n",
    "                image_path = os.path.join(image_folder, f\"{image_number}.jpeg\")\n",
    "                \n",
    "                \n",
    "                # 이미지 다운로드\n",
    "                download_image(image_url, image_path)\n",
    "            else:\n",
    "                print(\"No image found in the view_cont section.\")\n",
    "        else:\n",
    "            print(\"No view_cont section found.\")\n",
    "    else:\n",
    "        print(f\"Failed to retrieve the page. Status code: {response.status_code}\")\n"
   ]
  },
  {
   "cell_type": "markdown",
   "metadata": {},
   "source": [
    "#### 이미지 있으면 이미지 내용과 같이 저장"
   ]
  },
  {
   "cell_type": "code",
   "execution_count": 12,
   "metadata": {},
   "outputs": [],
   "source": [
    "import os\n",
    "import requests\n",
    "from bs4 import BeautifulSoup\n",
    "import base64\n",
    "from openai import OpenAI\n",
    "\n",
    "client = OpenAI()\n",
    "\n",
    "# 이미지 폴더 경로\n",
    "image_folder = os.path.join(os.getcwd(), \"image\")\n",
    "\n",
    "# GPT-4 텍스트 변환 함수\n",
    "def analyze_data_with_gpt4(image_path):\n",
    "    # 올바른 image_path 처리\n",
    "    image_path = os.path.join(os.getcwd(), \"image\", image_path)  # {image_path} -> image_path로 수정\n",
    "\n",
    "    with open(image_path, \"rb\") as image_file:\n",
    "        current_base64_image = base64.b64encode(image_file.read()).decode(\"utf-8\")\n",
    "\n",
    "    response = client.chat.completions.create(\n",
    "        model=\"gpt-4o\",\n",
    "        messages=[\n",
    "            {\"role\": \"system\", \"content\": \"Turn an image into text with as much content as possible. Don't use special characters, write in lines. and Answer in Korean.\"},\n",
    "            {\"role\": \"user\", \"content\": [{\"type\": \"image_url\", \"image_url\": {\"url\": f\"data:image/jpeg;base64,{current_base64_image}\"}}]}\n",
    "        ]\n",
    "    )\n",
    "    advice = response.choices[0].message.content\n",
    "    return advice\n",
    "\n",
    "content = []\n",
    "\n",
    "# URL 리스트 순회\n",
    "for url in url_list:\n",
    "    # 페이지 요청\n",
    "    response = requests.get(url)\n",
    "    \n",
    "    if response.status_code == 200:\n",
    "        soup = BeautifulSoup(response.content, \"html.parser\")\n",
    "        \n",
    "        # view_cont div 찾기\n",
    "        div_section = soup.find('div', {'class': 'view_cont'})\n",
    "        \n",
    "\n",
    "        if div_section:\n",
    "            # view_cont 내의 텍스트 추출\n",
    "            content_text = div_section.get_text(separator='\\n', strip=True)\n",
    "            \n",
    "            image_name = url.split(\"/\")[-1] + \".jpeg\"  # 이미지 파일 이름 생성\n",
    "            image_path = os.path.join(image_folder, image_name)\n",
    "            \n",
    "            # 이미지 파일이 존재하면, GPT 모델로 텍스트 변환\n",
    "            if os.path.exists(image_path):\n",
    "                explanation = analyze_data_with_gpt4(image_name)  # 이미지 경로를 함수로 전달\n",
    "                content_text += explanation  # 이미지 설명 추가\n",
    "            \n",
    "            # 텍스트 출력 및 저장\n",
    "            if content_text:\n",
    "                content.append(content_text)\n",
    "            else:\n",
    "                print(f\"No text found in view_cont for {url}.\")\n",
    "        else:\n",
    "            print(f\"view_cont section not found for {url}.\")\n",
    "    else:\n",
    "        print(f\"Failed to retrieve the page {url}. Status code: {response.status_code}\")\n"
   ]
  },
  {
   "cell_type": "code",
   "execution_count": 14,
   "metadata": {},
   "outputs": [
    {
     "data": {
      "text/plain": [
       "{'https://www.dongguk.edu/article/GENERALNOTICES/detail/26758365': '오케스트라 공연을 아래와 같이 개최하오니, 교내 구성원들의 많은 관심과 참여 부탁드립니다.20 December 12:00 pm  \\n동국대학교 중강당, 본관 3층  \\nDongguk Symphony Orchestra  \\n\\nW.A. Mozart, Violin Concerto No. 3  \\nL.v. Beethoven, Symphony No. 5  \\nA. Dvorák, Symphony No. 9  \\n지휘&협연 전강호[다니엘] 악장 성동하  \\n\\n2024. 12. 20 Friday  \\n주관: 동국대학교 주최: 다르마 갤러지  ',\n",
       " 'https://www.dongguk.edu/article/GENERALNOTICES/detail/26758350': '병역판정검사 일자 및 장소 본인선택 안내\\n\\n병무청에서는 병역판정검사 대상자의 편의를 고려하고 자율적으로 병역의무를 이행할 수 있도록, 병역판정검사 일자 및 장소를 직접 선택하여 검사를 받을 수 있는 제도를 운용하고 있습니다. 희망자는 다음 사항을 참고하여 인터넷으로 접수하시기 바랍니다.\\n\\n- 2025년도 병역판정검사 대상\\n  - 2006년생, 병역판정검사 연기중인 2005년 이전생\\n- 병역판정검사 기간: 2025. 1. 13. ~ 12. 17. (토요일, 공휴일 등 제외)\\n- 접수 시작일자: 2024. 12. 27.(금) 10:00부터\\n- ‘20세 병역판정검사 후 입영’ 본인선택 제도 신설: 2026년도 입영희망 시\\n- 2026년 병역판정검사 희망일 사전신청가능(신청기간): ’24. 12. 27. ~ ’25. 9. 30.\\n- 접수방법: 병무청 누리집(www.mma.go.kr) 또는 모바일 앱\\n  - PC: 병무청 누리집 → (좌측) 민원신청 → 병역판정검사 → 병역판정검사 일자 및 장소 본인선택 → 신청\\n  - 모바일: ‘병무청’ 앱 다운로드 → (좌측상단) 메뉴 → 민원서비스 → 병역판정 → 병역판정검사 본인선택(신청)\\n- 본인확인 절차 필수(간편인증(e-병무지갑), 공동(구 공인)인증서, 간편인증(민간인증서) 등)\\n\\n병역판정검사는 1일 수검 인원이 한정되어 선착순 마감이므로 미리 신청하셔야 본인이 원하는 일자 및 장소 선택이 가능합니다. 재학이수능 준비 사유로 연기 불가하오니, 미리 병역판정검사 일자를 선택하시기 바랍니다.\\n\\n기타 문의사항은 병무청 누리집(www.mma.go.kr) 또는 ARS(1588-9090)로 확인 할 수 있습니다.\\n\\n2024년 12월 10일\\n\\n서울 지방 병무청 장',\n",
       " 'https://www.dongguk.edu/article/GENERALNOTICES/detail/26758345': '더 좋은 동국 더 나은 미래  \\ndongguk UNIVERSITY\\n\\n2단계 인증 서비스 시행 안내\\n\\n우리 대학은 중요정보보호를 위하여 주요 시스템 접속 시 교내 인증서를 사용 중에 있습니다. 정보처는 물리적으로 상시 휴대해야 하는 번거로움과 PC 및 특정 OS (Windows)에서만 사용 가능한 교내 인증서의 한계점을 해결하고자 2단계 인증 서비스를 다음과 같이 시행합니다. \\n\\n대상 시스템 및 시행일 : 교내 포털, nDRIMS / 2024년 12월 21일(토) * 통합 모바일 플랫폼 및 웹메일 등 고도화 중인 서비스는 오픈 시 적용 예정\\n\\n2단계 인증 App설치 및 서비스 사용법: 공지 첨부 파일 참고\\n\\n구분 \\n\\n- 기존 교내 인증서 사용자\\n  - PC(Windows): 교내 인증서 사용 OR ID/PW 로그인 후 2단계 인증 사용\\n  - Mac OS/모바일(Android, iOS): ID/PW 로그인 후 2단계 인증 사용\\n- 개인정보를 취급하는 교직원(비전임/강사 포함) 전체\\n  - ID/PW 로그인 후 2단계 인증 사용 필수 \\n  - 본인 희망 시 교내 인증서 발급 가능\\n- 학생 \\n  - 본인 선택에 따라 2단계 인증 사용 여부 선택 가능\\n\\n개인정보를 취급하는 사용자는 ▶ 개인정보보호법 제29조(안전조치의무) ▶ 개인정보보호법 시행령 제30조(개인정보의 안전성 확보 조치) ▶ 개인정보의 안전성 확보를 위한 관리적, 기술적, 물리적 보호조치 기준 제5조(접근 관리에 관한) 에서 정한 정보주체의 인증 수단은 예외없이 암호와 인증서 사용을 원칙으로하는 경우는 물론 본인 인증을 위해 2단계 인증을 완료해야 합니다. 2단계 인증은 본인의 정보를 보호하고, 불법 해킹으로부터 타인의 개인정보를 침해하지 않도록 자신의 보안을 위해 사용자께서 취할 수 있는 가장 기본적인 보호수단임을 반드시 이해해 주시기 바랍니다.\\n\\n불편함이 있을 수 있으나 본인의 중요한 정보가 타인에게 노출되지 않도록 반드시 ID/비밀번호 로그인 시 2단계 인증을 완료해 주시기 바랍니다.\\n\\n- 정보처장 -',\n",
       " 'https://www.dongguk.edu/article/GENERALNOTICES/detail/26758340': '2024년도 혁신교수법 우수사례 공모전\\n우수 에세이 선정 발표 및 시상 안내\\n안녕하세요\\n.\\n교수학습혁신센터 교수지원부입니다\\n.\\n2024\\n년도 혁신교수법 우수사례 공모전 심사결과를 공지합니다\\n.\\n수상자뿐만 아니라 지원해주신 모든 학생들에게 박수를 보냅니다\\n.\\n별도 시상식은 시행하지 않습니다\\n.\\n※\\n상장 및 장학금 지급 안내\\n–\\n상장 수령\\n: 2024.12.16.(월\\n)\\n~\\n2024.12.20.(금\\n)\\n중 방문수령\\n(\\n가능 시간\\n: 10:00~16:00)\\n점심시간\\n12~13\\n시 제외\\n–\\n우수 시상 내역 학적부 기록\\n: 2025.년 3월 초\\n예정\\n–\\n시상금\\n(\\n장학금\\n)\\n지급\\n: 2025년 1월 중 지급(추후 공지 예정)\\n※\\n의무사항\\n:\\n장학금 지급을 위한 첨부양식 작성 및 제출\\n(\\n양식\\n1)\\n-선정자 학생은 (양식1)의 금액은 정확히 기재할 것! - 최우수 30만원, 우수 20만원, 장려 10만원 (아래 선발 명단 참고!)\\n(\\n기간 내 서류 미제출 시 장학금 지급 불가\\n)\\n–\\n제출기간\\n:\\n지금부터\\n~\\n12\\n.20(\\n금\\n)\\n까지\\n–\\n제출방법\\n:\\n방문서명\\n/\\n이메일 중 선택\\n[\\n방문 서명\\n]\\n-\\n센터를 방문하여 장학금 수령 서류 서명\\n-\\n방문 장소\\n:\\n서울캠퍼스 교수학습혁신센터\\n(\\n중앙도서관 왼편 별도 출입구 이용\\n)\\n-\\n방문 시간\\n: 10:00 ~ 16:00 (\\n휴일 및 점심시간\\n12~13\\n시 제외\\n)\\n[\\n이메일 제출\\n]\\n-\\n해당 기간 방문이 어려운 경우 장학금 지급확인서 작성 후 스캔하여 이메일 제출\\n(\\n학생 본인의 자필 사인\\n이 있어야 함\\n.)\\n- 12.20(금\\n)\\n까지 도착한 메일만 인정\\n(\\n※\\n추후 원본 영수증 제출 요구가 있을 수 있음\\n)\\n-\\n제출 주소\\n:\\nctl@dongguk.edu\\n-\\n메일 제목 및 파일명\\n:\\n혁신교수법 우수사례\\xa0공모전\\n_\\n이름\\n※\\n문의\\n:\\n교수학습개발센터 교수지원부\\n02-2260-8823\\n통화가능 시간\\n: 11:00 ~ 16:00 (\\n점심시간\\n12~13\\n시 제외\\n)\\n□\\n혁신교수법 우수사례 공모전 선발\\n명단\\n번호\\n수상\\n소속\\n학번\\n이름\\n1\\n최우수\\n영어통번역학전공\\n2020****65\\n김\\n*\\n진\\n2\\n우수\\n국어국문문예창작학부\\n2024****25\\n김\\n*\\n윤\\n3\\n우수\\n국제통상학과\\n2023****19\\n임\\n*\\n현\\n4\\n우수\\n사회복지상담학과\\n2023****76\\n한\\n*\\n희\\n5\\n장려\\n경영학과\\n2022****66\\n권\\n*\\n현\\n6\\n장려\\n산업시스템공학과\\n2020****73\\n김\\n*\\n선\\n7\\n장려\\n국어교육과\\n2022****82\\n김\\n*\\n민\\n8\\n장려\\n법학과\\n2022****87\\n김\\n*\\n석\\n9\\n장려\\n불교학부\\n2023****23\\n류\\n*\\n연\\n10\\n장려\\n글로벌무역학과\\n2023****55\\n박\\n*\\n연\\n11\\n장려\\n교육학과\\n2020****25\\n서\\n*\\n경\\n12\\n장려\\n화공생물공학과\\n2019****66\\n송\\n*\\n윤\\n13\\n장려\\n광고홍보학과\\n2020****62\\n윤\\n*\\n무\\n14\\n장려\\n산업시스템공학과\\n2022****79\\n윤\\n*\\n환\\n15\\n장려\\n국어국문문예창작학부\\n2020****75\\n이\\n*\\n윤\\n16\\n장려\\n미디어커뮤니케이션학전공\\n2021****54\\n이\\n*\\n빈\\n17\\n장려\\n물리학전공\\n2019****36\\n이\\n*\\n형\\n18\\n장려\\n국어국문문예창작학부\\n2022****89\\n하\\n*\\n진\\n19\\n장려\\n경영학과\\n2020****23\\n황\\n*\\n준',\n",
       " 'https://www.dongguk.edu/article/GENERALNOTICES/detail/26758339': '자세한 내용은 첨부파일 참고 바랍니다.',\n",
       " 'https://www.dongguk.edu/article/GENERALNOTICES/detail/26758338': '하나금융그룹  \\n청년취업두드림 지원사업  \\n아이들과미래재단  \\n\\n그루터기 학습멘토링  \\n같이에듀 5기  \\n대학생 멘토 모집  \\n\\n모집 기간  \\n2024년 12월 10일(화) ~ 2025년 1월 9일(목) 14시까지  \\n\\n모집 대상  \\n전국 4년제 이상 대학 재학생, 휴학생 및 대학원생 000명  \\n※ 2025년 졸업 예정자 불가, 공식 활동 기간 내 대학(원)생 학적 유지 필수  \\n※ 취약계층 대학생 우대 (기초생활수급자/차상위/기타 저소득)  \\n\\n활동 기간  \\n2025년 2월 ~ 12월 (11개월)  \\n\\n활동 내용  \\n➊ 1:1 온라인 학습멘토링  \\n- 아동복지시설 거주 및 이용 초등 4학년 ~ 고등 2학년 대상 1:1 온라인 학습 멘토링  \\n- 활동 주기: 주 2회 회당 90분 진행  \\n- 학습지도 과목 (국/영/수) 중 주 과목 1개, 부 과목 1개 선정하여 진행  \\n\\n※멘토링은 기관 운영시간 중에 진행되며 멘토는 기관 내 학습공간에서 접속하여 진행합니다.   \\n(기관 별로 운영시간이 상이하여 시간은 기관&멘티 매칭 후 개별 조정)  \\n※지도 교과목은 멘티 개별 학습 수준에 맞춰 멘토, 기관과 논의하여 지정합니다.  \\n※멘토 투명한 지원금 관리 및 활동 물리를 위해 지출보고가 수시로 진행됩니다.  \\n\\n➋ 같이에도 멘토 활동  \\n- 대학생 멘토 팀 교류 활동 3회  \\n- 대학생 멘토 대상 보수교육 2회(온라인 1회, 오프라인 1회)  \\n\\n활동 혜택  \\n❶ 수료 장학금 200만원 ❷ 활동 기념품 ❸ 우수멘토, 우수팀 시상 ❹ 멘토 대상 보수교육 진행  \\n❺ 자원봉사활동 확인서 VMS 및 1365, 교육봉사 인정 불가  \\n❻ 지원금 지급 (교육지원금(동행비), 문화체험활동비, 교재비, 팀 교육비)  \\n❼ 그 외 5기 활동기간 내 수시 이벤트 진행  \\n\\n신청방법  \\n온라인 지원서 작성 및 접수: https://www.withedumentor.or.kr/  \\n※접수기간 마감 이후 지원서 조회 및 수정, 반납 등 확인 불가, 지원자 개별 저장 및 프린트 필수  \\n\\n선발과정  \\n- 1차 서류전형 발표: 2025년 1월 16일(목)  \\n- 2차 온라인 면접: 2025년 1월 23일(목) ~ 1월 25일(토) 총 3일 기간 내 면접 일시 임의 배정  \\n※ 온라인 면접 전형, 30~50분 소요 예정  \\n- 최종 합격 발표: 2025년 2월 3일(월)  \\n- 온라인 발대식 및 OT: 2025년 2월 14일(금)  \\n※ 온라인 발대식 불참 및 OT 일정 필수 참여, 불참 시 선정 철회함  \\n\\n문의  \\n사회복지법인 아이들과미래재단 같이에도 담당자  \\n① 카카오톡채널 1:1 문의 - 카카오톡 > 홈 > 친구검색 > 키워드입력 > 같이에듀 (5기)  \\n② 유선전화 02-2039-3055  \\n③ 이메일 withedumentoring@gmail.com  \\n\\n※ 그루터기 학습멘토링 같이에듀는 교육봉사로 인정되지 않는 대외활동입니다.',\n",
       " 'https://www.dongguk.edu/article/GENERALNOTICES/detail/26758337': '성남시청소년재단 분당서현청소년수련관\\n\\n청년서포터즈 이름 모집 2025\\n\\n활동내용\\n- 방과후아카데미 장애청소년 대상 프로그램 기획·진행\\n- 수련관 내 행사 부스 체험 기획 및 운영 등\\n\\n모집대상\\n- 대학생 및 후기청소년 등 청년 누구나\\n\\n모집기간\\n- 12.12.(목) ~ 모집 완료 시까지 (연중 상시모집)\\n\\n문의\\n- 전화: 031)729-9441\\n- 이메일: kate9584@snyouth.or.kr\\n\\n지원방법\\n- QR코드를 통한 폼 작성 후 제출\\n\\n성남시청소년재단 분당서현청소년수련관 로고 그림과 함께 청소년들이 웃고 있는 일러스트가 포함되어 있습니다.',\n",
       " 'https://www.dongguk.edu/article/GENERALNOTICES/detail/26758332': '● 과제신청방법 :\\n드림패스(https://ddp.dongguk.edu) - 역량개발 - 산학협력 - 캡스톤디자인 - 과제신청 바로가기\\n● 과제신청기간 :\\n~11/29(금)\\n*기간 이후에 신청하신 학생들은 반드시 개별 연락주셔서 \\'승인\\' 받으셔야 합니다\\n.\\n● 상세일정\\n-\\n지원금 사용기간 : ~12/12(목)\\n* 단, 재료비는 종강일(전체 학사일정 참고) 1주 전까지만 사용 가능\\n-\\n정산서 제출 : 12/9(월)~12/20(금)\\n* 정산서 제출 기간 보다 늦어질 경우, 별도로 연락주세요 (\\n단, 정산서 제출이 늦어질 경우 지원금 입금도 늦어질 수 있다는 점 참고해주세요\\n)\\n* 제출처 : (서울캠) 신공학관 9층 9134호(들어와서 왼쪽) / 제출시간 : 10시~17시(점심시간(12시~13시) 제외)\\n* 일산 캠퍼스 학생들의 경우, 방문하여 직접 제출하거나 제출 전 \\'카카오톡플러스친구\\' 로 문의 주세요.\\n-\\n최종보고서 제출 : ~12/21(토)\\n* 최종보고서 제출은 드림패스에 파일 업로드해주세요(팀장만이 업로드 가능) 단, 용량이 커서 파일 업로드가 안 될 경우 메일로 제출해주세요\\n*\\n최종보고서 메일(dgcapstone1727@gmail.com) 제출시,\\n메일 제목 : 학과명 / 교과목명 / 팀명\\n● 안내자료 및 집행정산서 양식 다운로드 : 드림패스(https://ddp.dongguk.edu) - 역량개발 - 산학협력 - 공지사항\\n* 캡스톤디자인 안내문 및 집행정산서 관련 양식은 드림패스 공지사항에서 다운 가능합니다.\\n* 캡스톤디자인 지원금 사용은 드림패스 과제 신청 \\'승인\\' 후 사용 가능합니다.\\n● 문의 : 02-2290-1727, 1737 / 카카오플러스친구 \"\\n동국대학교 캡스톤디자인*\\n\" 검색 후 문의\\n*동국대학교 캡스톤디자인(바로가기 링크) :\\nhttp://pf.kakao.com/_dLxfKC최종보고서, 집행정산서 제출안내\\n\\n12월\\n\\n일: 8\\n월: 9\\n화: 10\\n수: 11\\n목: 12\\n금: 13\\n토: 14\\n\\n정산서 제출 시작~\\n\\n일: 15\\n월: 16\\n화: 17\\n수: 18\\n목: 19\\n금: 20\\n토: 21\\n\\n정산서 제출 마감일\\n최종보고서 마감일\\n\\n- 최종보고서는 드림패스에 파일로 제출해주세요.\\n- 집행정산서는 원본으로 대면 제출해주세요.\\n* 제출장소: 삼광학과 9층 913호(토요일 작성 입학)\\n* 평일접수시간: 10시~17시 (점심시간 12시~13시 제외)\\n\\n- 문의사항은 카카오톡 플러스친구로 언제든지 문의해주세요.',\n",
       " 'https://www.dongguk.edu/article/GENERALNOTICES/detail/26758330': '2024학년도 온라인 심리검사 프로그램 참여 안내\\n\\n‘나의 대학생활과 학습습관, 어떨까?’\\n\\n1. 검사 종류\\n- 자기조절학습검사(SLT): 자신의 대학생활 적용 정도를 파악하고, 학습전략의 중단점을 이해할 수 있는 검사\\n\\n2. 검사 기간\\n- 2024.10.24(목) ~ 12.31(화)\\n\\n3. 검사 대상\\n- 동국대학교 재학생 및 휴학생\\n- 선착순 210명\\n\\n4. 검사 방법\\n- 검사 실시: PC에서 실사화면 바로가기 클릭 후 ID/PW 입력 (NDRIMS와 동일)\\n- 결과 확인: 온라인에서 즉시 결과 확인 (오프라인 해석상담 신청 가능. 전화신청 → 신청서작성(이메일) → 해석상담)\\n- 만족도조사(필수): 검사 진행 후 만족도 조사 바로가기 클릭 및 실시\\n\\n문의: 카운슬링센터 (02-2260-3932)\\n\\n온라인 검사 서비스 제공을 위해 검사결과 등의 개인정보를 관련 업체인 ㈜가이던스에 위탁하고 활용할 수 있음을 알립니다.',\n",
       " 'https://www.dongguk.edu/article/GENERALNOTICES/detail/26758320': '동국대학교 참사람사회공헌센터에서 2024년도 마지막 진로적성 멘토링 봉사학생을 다음과 같이 모집하오니, 관심있는 학생들의 많은 지원 바랍니다.\\n[청원고등학교 진로적성멘토링 봉사학생 모집]\\n일시: 12.23.(월) 12:30~14:30\\n장소: 청원고등학교\\n내용: 청원고등학교 학생 대상 학과 설명 및 입시 멘토링\\n혜택: 드림패스 봉사시간 4시간 / 식비 및 간식, 멘토수업 물품비 지원 / 활동보고서 책자 발간\\n대상: 동국대학교 재학생\\n*사전 교육 참여 필수 (일시: 12.20.(금) 13:00~14:00)\\n*사전교육 및 멘토링 날짜로 결강사유서 발급 가능\\n*추후 평가회 진행 예정\\n*사전교육 및 평가회 참석 관련하여 별도 드림패스 봉사시간 부여\\n지원방법: 드림패스 -> 역량개발 -> 일반사회봉사 -> 청원고 고교멘토링 봉사 관련 클릭\\n지원마감: ~12.13.(금) 오전 9시'}"
      ]
     },
     "execution_count": 14,
     "metadata": {},
     "output_type": "execute_result"
    }
   ],
   "source": [
    "url_content_mapping = dict(zip(url_list, content))\n",
    "url_content_mapping"
   ]
  },
  {
   "cell_type": "markdown",
   "metadata": {},
   "source": [
    "#### 기존의 pinecone DB에 내용 추가 저장 (안됨)"
   ]
  },
  {
   "cell_type": "code",
   "execution_count": 17,
   "metadata": {},
   "outputs": [],
   "source": [
    "from pinecone import Pinecone\n",
    "from langchain_pinecone import PineconeVectorStore\n",
    "from langchain_upstage import UpstageEmbeddings\n",
    "\n",
    "embedding = UpstageEmbeddings(model=\"solar-embedding-1-large-passage\")\n",
    "\n",
    "# Initialize Pinecone connection\n",
    "index_name = \"dongguk\"  # Replace with your index name\n",
    "\n",
    "# Load the existing Pinecone database\n",
    "database = PineconeVectorStore.from_existing_index(index_name=index_name, embedding=embedding)"
   ]
  },
  {
   "cell_type": "code",
   "execution_count": 28,
   "metadata": {},
   "outputs": [
    {
     "data": {
      "text/plain": [
       "{'upserted_count': 10}"
      ]
     },
     "execution_count": 28,
     "metadata": {},
     "output_type": "execute_result"
    }
   ],
   "source": [
    "#from pinecone.grpc import PineconeGRPC as Pinecone\n",
    "\n",
    "# Initialize Pinecone client with your API key\n",
    "pinecone_api_key=os.environ.get(\"PINECONE_API_KEY\")\n",
    "pc=Pinecone(api_key=pinecone_api_key)\n",
    "index = pc.Index(host=\"https://dongguk-73v7xl6.svc.aped-4627-b74a.pinecone.io\")\n",
    "\n",
    "\n",
    "# Prepare vectors and metadata\n",
    "vectors = []\n",
    "for url, content in url_content_mapping.items():\n",
    "    # Vectorize the content using embed_query\n",
    "    vector = embedding.embed_query(content)  # Vectorize the content using embed_query()\n",
    "    \n",
    "    # Prepare metadata (you can customize this part based on your needs)\n",
    "    metadata = {\"content\": content}\n",
    "    \n",
    "    # Append to the list in the required format\n",
    "    vectors.append({\n",
    "        \"id\": url,  # URL as the id\n",
    "        \"values\": vector,  # The vector from embed_query\n",
    "        \"metadata\": metadata  # Metadata (can include more info)\n",
    "    })\n",
    "\n",
    "# Upsert the vectors into the Pinecone index\n",
    "index.upsert(vectors=vectors)"
   ]
  }
 ],
 "metadata": {
  "kernelspec": {
   "display_name": "chatDPT",
   "language": "python",
   "name": "python3"
  },
  "language_info": {
   "codemirror_mode": {
    "name": "ipython",
    "version": 3
   },
   "file_extension": ".py",
   "mimetype": "text/x-python",
   "name": "python",
   "nbconvert_exporter": "python",
   "pygments_lexer": "ipython3",
   "version": "3.10.12"
  }
 },
 "nbformat": 4,
 "nbformat_minor": 2
}
