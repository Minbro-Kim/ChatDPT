{
 "cells": [
  {
   "cell_type": "code",
   "execution_count": 1,
   "metadata": {},
   "outputs": [
    {
     "data": {
      "text/plain": [
       "True"
      ]
     },
     "execution_count": 1,
     "metadata": {},
     "output_type": "execute_result"
    }
   ],
   "source": [
    "from dotenv import load_dotenv\n",
    "load_dotenv()"
   ]
  },
  {
   "cell_type": "code",
   "execution_count": 2,
   "metadata": {},
   "outputs": [
    {
     "name": "stderr",
     "output_type": "stream",
     "text": [
      "/Users/lee/.pyenv/versions/chatDPT/lib/python3.10/site-packages/langchain_community/document_loaders/parsers/pdf.py:322: UserWarning: Warning: Empty content on page 0 of document dongguk_update.pdf\n",
      "  warnings.warn(\n"
     ]
    },
    {
     "name": "stdout",
     "output_type": "stream",
     "text": [
      "240\n"
     ]
    }
   ],
   "source": [
    "from langchain_community.document_loaders import PyMuPDFLoader\n",
    "\n",
    "loader = PyMuPDFLoader(\"dongguk_update.pdf\")\n",
    "docs=loader.load()\n",
    "print(len(docs))"
   ]
  },
  {
   "cell_type": "code",
   "execution_count": 4,
   "metadata": {},
   "outputs": [],
   "source": [
    "from langchain_text_splitters import RecursiveCharacterTextSplitter\n",
    "\n",
    "text_splitter = RecursiveCharacterTextSplitter(chunk_size=1500, chunk_overlap=200)\n",
    "split_documents = text_splitter.split_documents(docs)"
   ]
  },
  {
   "cell_type": "code",
   "execution_count": 8,
   "metadata": {},
   "outputs": [],
   "source": [
    "from langchain_upstage import UpstageEmbeddings\n",
    "embedding = UpstageEmbeddings(model=\"solar-embedding-1-large-passage\")"
   ]
  },
  {
   "cell_type": "code",
   "execution_count": 10,
   "metadata": {},
   "outputs": [],
   "source": [
    "import os\n",
    "\n",
    "from pinecone import Pinecone\n",
    "from langchain_pinecone import PineconeVectorStore\n",
    "\n",
    "index_name='dongguk'\n",
    "pinecone_api_key=os.environ.get(\"PINECONE_API_KEY\")\n",
    "pc=Pinecone(api_key=pinecone_api_key)\n",
    "\n",
    "database = PineconeVectorStore.from_documents(split_documents, embedding, index_name=index_name)"
   ]
  },
  {
   "cell_type": "code",
   "execution_count": 31,
   "metadata": {},
   "outputs": [],
   "source": [
    "query = '1학기 수강신청 기간 알려줘'\n",
    "retrieved_docs = database.similarity_search(query)"
   ]
  },
  {
   "cell_type": "code",
   "execution_count": 32,
   "metadata": {},
   "outputs": [
    {
     "data": {
      "text/plain": [
       "[Document(id='894e8a94-3435-469b-9313-f50be7ba4019', metadata={'author': 'Administrator', 'creationDate': \"D:20240929115640+09'00'\", 'creator': 'Hwp 2018 10.0.0.13015', 'file_path': 'dongguk_update.pdf', 'format': 'PDF 1.4', 'keywords': '', 'modDate': \"D:20240929115640+09'00'\", 'page': 18.0, 'producer': 'Hancom PDF 1.3.0.542', 'source': 'dongguk_update.pdf', 'subject': '', 'title': '', 'total_pages': 240.0, 'trapped': ''}, page_content='17\\nⅡ. 수강신청 및 수업관련제도▶▶\\n2. 희망강의신청 \\n가. 취지\\n  (1) 수강신청 대비 ‘쇼핑카트’ 개념으로서, 수강신청 편의 및 혜택 제공\\n  (2) 신속하고 안정적인 수강신청 시스템 운영 \\n  (3) 강좌별 수강 수요현황을 파악하여 강좌 분반 및 강의실 조정에 활용  \\n나. 대상 및 신청기간 \\n다. 신청방법 : mDRIMS → 학사정보 → 교과수업 → 수강신청관리 → 희망강의신청\\n라. 신청가능학점 : 수강을 희망하는 강좌 24학점 이내로 신청 가능\\n                 ※해당학기(희망강의 신청 시점 학기) 지도교수 상담 학생은 27학점까지 신청 가능\\n마. 유의사항 \\n  (1) 희망강의신청 결과와 관계없이 반드시 본 수강신청 기간에 수강신청을 완료해야 하며, 쇼핑\\n     카트 클릭으로 수강신청을 신속하고 편리하게 할수 있음.\\n  (2) 희망강의는 중복(시간, 취득과목) 및 제한사항(학년, 학과, 인원)에 상관없이 신청가능하지만 \\n     수강신청기간에는 신청이 불가할 수 있으므로 유의하기 바람.\\n  (3) Dream PATH 핵심역량진단자만 희망강의 신청가능\\n 학기\\n대상자\\n핵심역량진단 기간\\n비고\\n1학기\\n재학 ㆍ 휴학생 전체\\n2023.09.01.(수)~희망강의 신청 전\\n기간 중 상시진단 가능\\n2학기\\n재학 ㆍ 휴학생 전체\\n2024.03.01.(화)~희망강의 신청 전\\n기간 중 상시진단 가능\\n※ Dream PATH 접속방법 : 학교 메인 홈페이지 → 우측 하단 「QUICK LINK」 → 「드림패스」 클릭 \\n※ Dream PATH 핵심역량진단방법 : Dream PATH 로그인 → 역량개발 → 진단검사 → 핵심역량진단\\n   추후 Dream PATH 상세 매뉴얼 홈페이지 별도 배포 예정 \\n※ 문의처 : 본관 3층 학생처 학생역량개발팀 (☎ 02)2260-8851)  \\n3. 수강신청 \\n가. 수강신청기간 : 세부일정 P.16 참조 \\n  (1) 수강신청기간은 3,4학년(1일), 1,2학년(1일), 복수전공(1일), 전체(1~2일)로 구성\\n  (2) 학년별 수강신청기간에는 본인의 전공과목과 교양과목만 신청 가능 \\n 학기\\n대상자\\n일 정\\n대상과목\\n1학기\\n재학 ㆍ 휴학생 전체\\n2024.01.23.(화) 10:00~01.25.(목) 23:59\\n전체과목\\n2학기\\n재학 ㆍ 휴학생 전체\\n2024.07.17.(수) 10:00~07.19.(금) 23:59\\n전체과목'),\n",
       " Document(id='058f69bd-1552-46d6-8702-2b3421f847ff', metadata={'author': 'Administrator', 'creationDate': \"D:20240929115640+09'00'\", 'creator': 'Hwp 2018 10.0.0.13015', 'file_path': 'dongguk_update.pdf', 'format': 'PDF 1.4', 'keywords': '', 'modDate': \"D:20240929115640+09'00'\", 'page': 17.0, 'producer': 'Hancom PDF 1.3.0.542', 'source': 'dongguk_update.pdf', 'subject': '', 'title': '', 'total_pages': 240.0, 'trapped': ''}, page_content='16 ▶▶ 2024학년도 학사제도 및 학업이수가이드\\nⅡ. 수강신청 및 수업관련제도  \\n1. 수강신청 일정\\n가. 2024학년도 1학기  \\n나. 2024학년도 2학기 \\n \\n※ 교양과목 등 : 공통/핵심/일반교양, 학문기초, 대학전공기초, 자유선택, 자기개발, 교직, 평생교육, 군사학 등\\n※ 수강신청 일정은 학교사정에 따라 변동 가능\\n구분\\n대상\\n일 정\\n대상과목\\n희망강의신청\\n재학ㆍ휴학생 전체 2024.01.23.(화) 10:00~01.25.(목) 23:59\\n전체과목\\n재학생 및 복학생 \\n수강신청 \\n3~6학년\\n 2024.02.02.(금) 10:00~23:59\\n주전공과목, 교양과목 등 \\n재학생 및 복학생 \\n수강신청 \\n1~2학년\\n 2024.02.05.(월) 10:00~23:59\\n주전공과목, 교양과목 등\\n재학생 및 복학생 \\n수강신청 \\n다전공자(복수/연계/\\n융합/학생설계전공)  2024.02.06.(화) 10:00~23:59\\n복수(연계)전공과목\\n재학생 및 복학생 \\n수강신청 \\n전체 학생\\n 2024.02.06.(화) 10:00~23:59\\n교양과목 등\\n재학생 및 복학생 \\n수강신청 \\n전체 학생\\n 2024.02.07.(수) 10:00~02.08.(목) 17:00\\n전체과목\\n편입생\\n편입생\\n(외국인포함)\\n 2024.02.22.(목) 10:00~17:00\\n전체과목\\n신입생 \\n신입생\\n(외국인포함)\\n 2024.02.26.(월) 10:00~02.27.(화) 17:00\\n전체과목\\n수강신청확인 및 \\n정정기간\\n전체 학생\\n 2024.03.05.(화) 08:30~03.11.(월) 17:00\\n전체과목(수강정정)\\n수강신청 취소\\n전체 학생\\n 2024.03.20.(수) 10:00~03.22.(금) 23:59\\n전체과목\\n구분\\n대상\\n일 정\\n대상과목\\n희망강의신청\\n재학ㆍ휴학생 전체\\n 2024.07.17.(수) 10:00~07.19.(금) 23:59\\n전체과목\\n재학생 및 복학생 \\n수강신청 \\n3~6학년\\n 2024.08.05.(월) 10:00~23:59\\n주전공과목, 교양과목 등 \\n재학생 및 복학생 \\n수강신청 \\n1~2학년\\n 2024.08.06.(화) 10:00~23:59\\n주전공과목, 교양과목 등\\n재학생 및 복학생 \\n수강신청 \\n다전공자(복수/연계/\\n융합/학생설계전공)\\n 2024.08.07.(수) 10:00~23:59\\n복수(연계)전공과목\\n재학생 및 복학생 \\n수강신청 \\n전체 학생\\n 2024.08.07.(수) 10:00~23:59\\n교양과목 등\\n재학생 및 복학생 \\n수강신청 \\n전체 학생\\n 2024.08.08.(목) 10:00~08.09.(금) 17:00\\n전체과목\\n외국인 신ㆍ편입생 \\n수강신청\\n2학기 외국인 \\n신·편입생\\n 2024.08.22.(목) 15:00~08.23.(금) 17:00\\n전체과목\\n수강신청확인 및 \\n정정기간\\n전체 학생\\n 2024.09.03.(화) 08:30~09.09.(월) 17:00\\n전체과목(수강정정)\\n수강신청 취소\\n전체 학생\\n 2024.09.25.(수) 10:00~09.27.(금) 23:59\\n전체과목'),\n",
       " Document(id='70a061e4-faca-4122-bae6-3682b4c9ae4d', metadata={'author': 'Administrator', 'creationDate': \"D:20240929115640+09'00'\", 'creator': 'Hwp 2018 10.0.0.13015', 'file_path': 'dongguk_update.pdf', 'format': 'PDF 1.4', 'keywords': '', 'modDate': \"D:20240929115640+09'00'\", 'page': 21.0, 'producer': 'Hancom PDF 1.3.0.542', 'source': 'dongguk_update.pdf', 'subject': '', 'title': '', 'total_pages': 240.0, 'trapped': ''}, page_content='20 ▶▶ 2024학년도 학사제도 및 학업이수가이드\\n등록되어 있는 휴대전화 문자 메세지로 신청가능함을 안내하는 시스템\\n     → 이 때 반드시 수강신청 시스템에 접속하여 신청을 하여야 최종 완료가 됨\\n        신청가능 안내 메시지를 받고 정해진 시간 안(90분)에 미신청 시 대기신청 상태는 자동삭제  \\n   처리되고, 차순위 학생에게 신청기회가 부여됨\\n     ※ 수강대기 문자알림은 편의를 도모하기 위한 보조시스템이므로 수강자 스스로 대기시간 \\n초과에 의한 수강대기취소가 되지 않도록 유의 바람 \\n (2) 신청가능 안내 메세지를 받았으나 정해진 시간 내에 수강신청을 하지 않아 수강신청 기회가 \\n차순위 학생으로 넘어간 경우, 해당 강의를 신청하고자 할때는 다시 신청절차를 진행하여야 함\\n (3) 신청가능 안내 메세지는 mDRIMS에 등록된 본인의 휴대전화번호로 발송되므로 mDRIMS에 \\n    휴대전화번호가 제대로 등록되어 있는지 반드시 확인 바람. 또한, 메시지 발신번호는 \\n“02-2260-8570”이니 스팸번호로 등록되어 있지 않은지 확인 필요\\n (4) 수강대기 시스템은 수강신청 기간동안 하루단위로 초기화되므로, 다음날 다시 신청절차를 \\n진행하여야 함\\n     ※ 대상자별 신청기간 및 시간이 연속으로 되어 있을 경우만 초기화 없이 연속적으로 진행     \\n   (<예> 전체 학생 신청기간이 2일간인 경우에는 초기화 없이 연속적으로 진행)\\n5. 수강신청 확인 및 정정 \\n가. 정정기간 \\n나. 수강신청 확인 및 정정방법\\n  (1) 최초 수강신청한 교과목을 mDRIMS의 “개인 강의시간표 조회”를 통해서 확인\\n  (2) 수강 및 삭제하고자 하는 강좌에 대해 횟수에 상관없이 정정 가능\\n  (3) 학교 홈페이지 오른쪽 하단의 Pop-up Zone “수강정정 안내” 배너 클릭\\n     → 수강신청 사이트(http://sugang.dongguk.edu) 로그인 후 정정\\n  \\n다. 기타 유의사항\\n  (1) 해당학기 개설 강좌 중 폐강된 강좌를 수강신청한 학생은 수강정정기간 중에 반드시 수강과목변경\\n      ※ 홈페이지 학사공지 - “1차 폐강 및 폐강 유예 강좌 안내” 참조\\n  (2) 수강정정기간 후 2차 폐강으로 인한 추가신청은 별도 정정일자에 학생 본인이 mDRIMS(폐강대\\n체신청)를 통해서 신청 \\n학기\\n대상자\\n일 정\\n대상과목\\n1학기\\n재학생 \\n2024.03.05.(화) 08:30~03.11.(월) 17:00\\n전체과목(수강정정)\\n2학기\\n재학생\\n2024.09.03.(화) 08:30~09.09.(월) 17:00\\n전체과목(수강정정)'),\n",
       " Document(id='3bd50239-5ca5-479a-a010-7a1fd82f6661', metadata={'author': 'Administrator', 'creationDate': \"D:20240929115640+09'00'\", 'creator': 'Hwp 2018 10.0.0.13015', 'file_path': 'dongguk_update.pdf', 'format': 'PDF 1.4', 'keywords': '', 'modDate': \"D:20240929115640+09'00'\", 'page': 13.0, 'producer': 'Hancom PDF 1.3.0.542', 'source': 'dongguk_update.pdf', 'subject': '', 'title': '', 'total_pages': 240.0, 'trapped': ''}, page_content='12 ▶▶ 2024학년도 학사제도 및 학업이수가이드\\nⅠ. 2024학년도 1학기 주요 학사 일정\\n1학기 월별 주요 학사 일정은 다음과 같다.\\n1월\\n1월\\n 2(화) - 5(금)\\n<학부/대학원>\\n2024-1학기 복학 신청(1차)\\n1월\\n 5(금)\\n<학부>\\n2024년 봄 졸업대상자 영어성적 제출 마감\\n1월\\n 5(금)\\n<대학원>\\n최종제본논문 제출마감일\\n1월\\n 15(월) - 19(금)\\n<학부/대학원>\\n2024-1학기 복학 신청(2차)\\n1월\\n 15(월) - 19(금)\\n<학부/대학원>\\n2024-1학기 휴학 신청(1차)\\n1월\\n 22(월) - 2.2(금)\\n<대학원>\\n종합시험 및 제2외국어시험 접수\\n2월\\n2월\\n 1(목) - 4(일)\\n<학부(교직)>\\n교원자격 무시험검정원서 신청\\n2월\\n 2(금), 5(월) - 8(목) <학부>\\n2024-1학기 학부 수강 신청\\n2월\\n 9(금) - 14(수)\\n<대학원>\\n2024-1학기 대학원 수강 신청\\n2월\\n 12(월) - 16(금)\\n<대학원>\\n대학원 외국어(영어, 한국어)시험 접수\\n2월\\n 15(목)\\n<학부/대학원>\\n2024년 봄 학위수여식(서울캠퍼스)\\n2월\\n 15(목)\\n<학부(교직)>\\n졸업생 교원자격증 발급\\n2월\\n 16(금)\\n<학부/대학원>\\n2024년 봄 학위수여식(WISE캠퍼스)\\n2월\\n 16(금)\\n<대학원>\\n일반대학원 신입생 오리엔테이션\\n2월\\n 16(금) - 19(월)\\n<대학원>\\n일반대학원 신입생 수강신청\\n2월\\n 20(화) - 26(월)\\n<학부/대학원>\\n2024-1학기 등록\\n2월\\n 22(목)\\n<학부>\\n2024학년도 입학식(WISE캠퍼스)\\n2월\\n 23(금)\\n<학부>\\n2024학년도 입학식(서울캠퍼스)\\n3월\\n3월\\n 2(토)\\n<대학원>\\n대학원 외국어(영어, 한국어)시험일\\n3월\\n 4(월)\\n<학부/대학원>\\n개강\\n3월\\n 4(월) - 10(일)\\n<대학원>\\n수강신청 확인 및 정정\\n3월\\n 5(화) - 11(월)\\n<학부>\\n수강신청 확인 및 정정\\n3월\\n 7(목) - 11(월)\\n<학부/대학원>\\n2024-1학기 휴학 신청(2차)\\n3월\\n 8(금)\\n<학부(교직)>\\n2024-1학기 학교현장실습 오리엔테이션\\n3월\\n 12(화) - 14(목)\\n<학부>\\n취득교과목 학점포기 신청\\n3월\\n 18(월) - 20(수)\\n<대학원>\\n대학원 학위청구논문 초록신청\\n3월\\n 20(수) - 22(금)\\n<학부/대학원>\\n2024-1학기 휴학 신청(3차)\\n3월\\n 20(수) - 22(금)\\n<학부>\\n다전공(복수∙연계∙융합∙학생설계전공) 포기 신청\\n3월\\n 20(수) - 22(금)\\n<학부>\\n조기졸업 신청\\n3월\\n 20(수) - 22(금)\\n<학부>\\n수강신청교과목 취소\\n3월\\n 27(수)\\n<학부/대학원>\\n학기 1/4 기준일\\n4월\\n4월\\n 12(금)\\n<학부/대학원>\\n4.19혁명 기념 동국인 등산대회\\n4월\\n 15(월) - 19(금)\\n<학부>\\n전공미결정 학부생 전공신청\\n4월\\n 22(월) - 26(금)\\n<학부>\\n1학기 중간시험\\n4월\\n 22(월)\\n<학부/대학원>\\n학기 1/2 기준일')]"
      ]
     },
     "execution_count": 32,
     "metadata": {},
     "output_type": "execute_result"
    }
   ],
   "source": [
    "retrieved_docs"
   ]
  },
  {
   "cell_type": "code",
   "execution_count": 33,
   "metadata": {},
   "outputs": [],
   "source": [
    "from langchain_openai import ChatOpenAI\n",
    "\n",
    "llm = ChatOpenAI(model=\"gpt-4o\", temperature=0)"
   ]
  },
  {
   "cell_type": "code",
   "execution_count": 34,
   "metadata": {},
   "outputs": [],
   "source": [
    "from langchain_core.prompts import PromptTemplate\n",
    "\n",
    "# 프롬프트 생성\n",
    "prompt = PromptTemplate(\n",
    "    input_variables=[\"context\", \"question\"],\n",
    "    template=\"\"\"\n",
    "    You are an aiassistant who answers questions related to school life of Dongguk University students.\n",
    "    Use the following pieces of retrieved context to answer the question. \n",
    "    Please answer in the questioning language. For example, if the Question is in English, answer in English, and answer in Chinese\n",
    "    Please present the page of the document you referred to when answering in the following format.\n",
    "    If a user's question varies depending on various situations or environments, encourages the user to ask more specific questions, please.\n",
    "    You should never answer inaccurate or incorrect content. If you can't answer the content, don't provide a page. let's think step by step\n",
    "    # format : 이 답변은 2024 신입생 학업이수가이드 ??? 페이지를 참고해 작성되었습니다.\n",
    "\n",
    "    Retrieved Context: {context}\n",
    "\n",
    "    Question: {question}\n",
    "\n",
    "    Answer:\n",
    "    \"\"\"\n",
    ")"
   ]
  },
  {
   "cell_type": "code",
   "execution_count": 35,
   "metadata": {},
   "outputs": [],
   "source": [
    "from langchain.chains import RetrievalQA\n",
    "\n",
    "qa_chain = RetrievalQA.from_chain_type(\n",
    "    llm, retriever=database.as_retriever(),\n",
    "    chain_type_kwargs={\"prompt\": prompt}\n",
    ")"
   ]
  },
  {
   "cell_type": "code",
   "execution_count": 36,
   "metadata": {},
   "outputs": [],
   "source": [
    "ai_message = qa_chain.invoke({'query': query})"
   ]
  },
  {
   "cell_type": "code",
   "execution_count": 37,
   "metadata": {},
   "outputs": [
    {
     "data": {
      "text/plain": [
       "'2024학년도 1학기 수강신청 기간은 다음과 같습니다:\\n\\n- 3~6학년: 2024년 2월 2일(금) 10:00부터 23:59까지\\n- 1~2학년: 2024년 2월 5일(월) 10:00부터 23:59까지\\n- 다전공자(복수/연계/융합/학생설계전공): 2024년 2월 6일(화) 10:00부터 23:59까지\\n- 전체 학생: 2024년 2월 7일(수) 10:00부터 2월 8일(목) 17:00까지\\n\\n이 답변은 2024 신입생 학업이수가이드 16 페이지를 참고해 작성되었습니다.'"
      ]
     },
     "execution_count": 37,
     "metadata": {},
     "output_type": "execute_result"
    }
   ],
   "source": [
    "ai_message['result']"
   ]
  },
  {
   "cell_type": "code",
   "execution_count": null,
   "metadata": {},
   "outputs": [],
   "source": []
  }
 ],
 "metadata": {
  "kernelspec": {
   "display_name": "chatDPT",
   "language": "python",
   "name": "python3"
  },
  "language_info": {
   "codemirror_mode": {
    "name": "ipython",
    "version": 3
   },
   "file_extension": ".py",
   "mimetype": "text/x-python",
   "name": "python",
   "nbconvert_exporter": "python",
   "pygments_lexer": "ipython3",
   "version": "3.10.12"
  }
 },
 "nbformat": 4,
 "nbformat_minor": 2
}
